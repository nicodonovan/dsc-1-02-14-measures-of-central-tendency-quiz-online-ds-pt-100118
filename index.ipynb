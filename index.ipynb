{
 "cells": [
  {
   "cell_type": "markdown",
   "metadata": {},
   "source": [
    "# Measures of Central Tendency - Quiz\n",
    "\n",
    "## Objectives\n",
    "You will be able to:\n",
    "* Understand and describe the significance of measuring central tendency of continuous data\n",
    "* Understand the formula and intuition behind the mean, median, mode and modal class\n",
    "* Compare mean-median-mode, along with histograms to explain the central tendency of given data"
   ]
  },
  {
   "cell_type": "markdown",
   "metadata": {},
   "source": [
    "### Exercise 1\n",
    "Calculate the mean, median and mode for this data set: \n",
    "```\n",
    "19, 18, 21, 16, 15, 17, 20, 18\n",
    "```\n",
    "While comparing the results of three measures, comment about this distribution. "
   ]
  },
  {
   "cell_type": "code",
   "execution_count": 5,
   "metadata": {},
   "outputs": [
    {
     "data": {
      "image/png": "[encoded data removed]",
      "text/plain": [
       "<Figure size 432x288 with 1 Axes>"
      ]
     },
     "metadata": {
      "needs_background": "light"
     },
     "output_type": "display_data"
    },
    {
     "name": "stdout",
     "output_type": "stream",
     "text": [
      "18.0\n",
      "18.0\n"
     ]
    }
   ],
   "source": [
    "# Your answer here \n",
    "def median(list):\n",
    "    x = len(list)\n",
    "    if x % 2 == 0:\n",
    "        half = int(x/2)\n",
    "        median = (list[half] + list[half-1])/2\n",
    "        return median\n",
    "    else:\n",
    "        half = int((x-1)/2)\n",
    "        median = list[half]\n",
    "        return median\n",
    "\n",
    "def mean(list):\n",
    "    sum = 0\n",
    "    for num in list:\n",
    "        sum = sum + num\n",
    "    return sum/(len(list))\n",
    "\n",
    "import matplotlib.pyplot as plt\n",
    "x = [15, 16, 17, 18, 18, 19, 20, 21]\n",
    "plt.hist(x, bins=7)\n",
    "plt.title(\"Exercise 1\")\n",
    "plt.show()\n",
    "\n",
    "print(median(x))\n",
    "print(mean(x))\n",
    "\n",
    "#the mean, median and mode are all 18. This list is centrally distributed."
   ]
  },
  {
   "cell_type": "markdown",
   "metadata": {},
   "source": [
    "### Exercise 2\n",
    "\n",
    "Calculate the mean, median and mode for given distribution and state which of these measures does not describe the \"middle\" of this data set? and why ?\n",
    "```\n",
    "100, 99, 97, 97, 96, 98, 95, 72\n",
    "```"
   ]
  },
  {
   "cell_type": "code",
   "execution_count": 6,
   "metadata": {},
   "outputs": [
    {
     "data": {
      "image/png": "[encoded data removed]",
      "text/plain": [
       "<Figure size 432x288 with 1 Axes>"
      ]
     },
     "metadata": {
      "needs_background": "light"
     },
     "output_type": "display_data"
    },
    {
     "name": "stdout",
     "output_type": "stream",
     "text": [
      "94.25\n",
      "97.0\n"
     ]
    }
   ],
   "source": [
    "# Your answer here \n",
    "\n",
    "def median(list):\n",
    "    x = len(list)\n",
    "    if x % 2 == 0:\n",
    "        half = int(x/2)\n",
    "        median = (list[half] + list[half-1])/2\n",
    "        return median\n",
    "    else:\n",
    "        half = int((x-1)/2)\n",
    "        median = list[half]\n",
    "        return median\n",
    "\n",
    "def mean(list):\n",
    "    sum = 0\n",
    "    for num in list:\n",
    "        sum = sum + num\n",
    "    return sum/(len(list))\n",
    "\n",
    "import matplotlib.pyplot as plt\n",
    "x = [72, 95, 96, 97, 97, 98, 99, 100]\n",
    "plt.hist(x, bins = 10)\n",
    "plt.title(\"Exercise 2\")\n",
    "plt.show()\n",
    "\n",
    "print(mean(x))\n",
    "print(median(x))\n",
    "\n",
    "#the mean is 94.25, while the median and mode are both 97.\n",
    "#the mean is not central because of the outlier number (72)."
   ]
  },
  {
   "cell_type": "markdown",
   "metadata": {},
   "source": [
    "### Exercise 3\n",
    "On the first three days of his bookshop opening, Joe sold 15, 18, and 16 books (He initially hoped that he would sell 17 books every day).  How many books does he need to sell on the next day to have a mean sale of 17?"
   ]
  },
  {
   "cell_type": "code",
   "execution_count": 21,
   "metadata": {},
   "outputs": [
    {
     "name": "stdout",
     "output_type": "stream",
     "text": [
      "19\n"
     ]
    }
   ],
   "source": [
    "# Your answer here \n",
    "\n",
    "x = (17 * 4) - (15 + 18 + 16)\n",
    "print(x)\n",
    "\n",
    "#19 books"
   ]
  },
  {
   "cell_type": "markdown",
   "metadata": {},
   "source": [
    "### Exercise 4\n",
    "The histograms show the amount of time (hours per day) spent on Facebook by 46 middle school girls and 40 middle school boys from a school in San Francisco. A total of 50 boys and 50 girls took the survey, 4 girls and 10 boys did not use Facebook at all. \n",
    "Each is graphed with a bin width of 0.25 hours.\n",
    "\n",
    "![](boys.png)\n",
    "![](girls.png)\n",
    "\n",
    "Looking at these histograms, answer following questions. \n",
    "\n",
    "*Hint: For most parts, you will have to figure out the location of required bins and count the frequencies. *\n",
    "\n",
    "#### How many boys spend more than 1.5 hours/day on Facebook?\n"
   ]
  },
  {
   "cell_type": "code",
   "execution_count": 9,
   "metadata": {},
   "outputs": [],
   "source": [
    "# Your answer here \n",
    "\n",
    "#8 boys spend more than 1.5 hours/day on facebook"
   ]
  },
  {
   "cell_type": "markdown",
   "metadata": {},
   "source": [
    "#### Compare the percentage of boys and girls that spend more than zero but less than 1 hour/day on Facebook."
   ]
  },
  {
   "cell_type": "code",
   "execution_count": 10,
   "metadata": {},
   "outputs": [],
   "source": [
    "# Your answer here \n",
    "\n",
    "# 10/46 girls (~22%) spend more than zero but less than 1 hour/day on Facebook.\n",
    "# 20/40 (50%) boys spend more than zero but less than 1 hour/day on Facebook. \n",
    "\n",
    "# higher percentage of boys fit this criteria than girls."
   ]
  },
  {
   "cell_type": "markdown",
   "metadata": {},
   "source": [
    "#### Find the bin where the median of the boys' data set lies."
   ]
  },
  {
   "cell_type": "code",
   "execution_count": 11,
   "metadata": {},
   "outputs": [],
   "source": [
    "# Your answer here \n",
    "\n",
    "#seems like the 0.75 - 1.0 bin for the boys' median."
   ]
  },
  {
   "cell_type": "markdown",
   "metadata": {},
   "source": [
    "#### In terms of Facebook usage times based on given data, what can you conclude about usage habits of boys and girls?"
   ]
  },
  {
   "cell_type": "code",
   "execution_count": 12,
   "metadata": {},
   "outputs": [],
   "source": [
    "# Your answer here \n",
    "\n",
    "# middle school girls use Facebook more than middle school boys. The boys' data is more centrally distributed than the girls."
   ]
  }
 ],
 "metadata": {
  "kernelspec": {
   "display_name": "Python 3",
   "language": "python",
   "name": "python3"
  },
  "language_info": {
   "codemirror_mode": {
    "name": "ipython",
    "version": 3
   },
   "file_extension": ".py",
   "mimetype": "text/x-python",
   "name": "python",
   "nbconvert_exporter": "python",
   "pygments_lexer": "ipython3",
   "version": "3.6.4"
  }
 },
 "nbformat": 4,
 "nbformat_minor": 2
}
